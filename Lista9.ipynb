{
 "cells": [
  {
   "cell_type": "markdown",
   "metadata": {
    "collapsed": true
   },
   "source": [
    "# Lista 9\n",
    "\n",
    "**Nome**: Marcos Vinicius Arnold Assaf **RA**: 817122173"
   ]
  },
  {
   "cell_type": "markdown",
   "metadata": {},
   "source": [
    "1) Faça um Programa que peça o raio de um círculo, calcule e mostre sua área. "
   ]
  },
  {
   "cell_type": "code",
   "execution_count": 1,
   "metadata": {},
   "outputs": [
    {
     "name": "stdout",
     "output_type": "stream",
     "text": [
      "Raio do círculo: 25\n",
      "A área do círculo = 1962.5\n"
     ]
    }
   ],
   "source": [
    "raio = float(input(\"Raio do círculo: \"))\n",
    "area = 3.14 * (raio * raio)\n",
    "print(\"A área do círculo =\", area)"
   ]
  },
  {
   "cell_type": "markdown",
   "metadata": {},
   "source": [
    "2)  Faça um Programa que calcule a área de um quadrado, em seguida mostre o dobro desta área para o usuário. "
   ]
  },
  {
   "cell_type": "code",
   "execution_count": 2,
   "metadata": {},
   "outputs": [
    {
     "name": "stdout",
     "output_type": "stream",
     "text": [
      "Tamanho do lado do quadrado: 25\n",
      "A área do quadrado = 625.0\n",
      "O dobro da área do quadrado =  1250.0\n"
     ]
    }
   ],
   "source": [
    "ladoQuad = float(input(\"Tamanho do lado do quadrado: \"))\n",
    "areaQuad = ladoQuad * ladoQuad\n",
    "print(\"A área do quadrado =\", areaQuad)\n",
    "dobroAreaQuad = areaQuad * 2\n",
    "print(\"O dobro da área do quadrado = \", dobroAreaQuad)"
   ]
  },
  {
   "cell_type": "markdown",
   "metadata": {},
   "source": [
    "3) Faça um Programa que pergunte quanto você ganha por hora e o número de horas trabalhadas no mês. Calcule e mostre o total do seu salário no referido mês."
   ]
  },
  {
   "cell_type": "code",
   "execution_count": 4,
   "metadata": {},
   "outputs": [
    {
     "name": "stdout",
     "output_type": "stream",
     "text": [
      "Digite o quanto você ganha por hora: 150\n",
      "Digite o quanta horas você trabalha no mês: 8\n",
      "Você ganha = R$ 1200.0 por mês\n"
     ]
    }
   ],
   "source": [
    "ganhaHora = float(input(\"Digite o quanto você ganha por hora: \"))\n",
    "trabalhaMes = float(input(\"Digite o quanta horas você trabalha no mês: \"))\n",
    "print(\"Você ganha = R$\", ganhaHora * trabalhaMes, \"por mês\")"
   ]
  },
  {
   "cell_type": "markdown",
   "metadata": {},
   "source": [
    "4) Faça um Programa que peça a temperatura em graus Farenheit, transforme e mostre a temperatura em graus Celsius. C = (5 * (F-32) / 9)."
   ]
  },
  {
   "cell_type": "code",
   "execution_count": 6,
   "metadata": {},
   "outputs": [
    {
     "name": "stdout",
     "output_type": "stream",
     "text": [
      "Temperatura em Farenheit = 145\n",
      "A temperatura em graus Celsius é: 62.77777777777778\n"
     ]
    }
   ],
   "source": [
    "farenheit = float(input(\"Temperatura em Farenheit = \"))\n",
    "conversao = (5 * (farenheit - 32) / 9)\n",
    "print(\"A temperatura em graus Celsius é:\", conversao)"
   ]
  },
  {
   "cell_type": "markdown",
   "metadata": {},
   "source": [
    "5) Faça um Programa que peça a temperatura em graus Celsius, transforme e mostre em graus Farenheit. "
   ]
  },
  {
   "cell_type": "code",
   "execution_count": 7,
   "metadata": {},
   "outputs": [
    {
     "name": "stdout",
     "output_type": "stream",
     "text": [
      "Temperatura em Celsius: 25\n",
      "A temperatura em graus Farenheit é: 77.0\n"
     ]
    }
   ],
   "source": [
    "celsius = float(input(\"Temperatura em Celsius: \"))\n",
    "conversao = (celsius * 9 / 5 + 32)\n",
    "print(\"A temperatura em graus Farenheit é:\", conversao)"
   ]
  },
  {
   "cell_type": "markdown",
   "metadata": {},
   "source": [
    "6) Faça um Programa que peça 2 números inteiros e um número real. Calcule e mostre:\n",
    "<br>\n",
    "- o produto do dobro do primeiro com metade do segundo . \n",
    "- a soma do triplo do primeiro com o terceiro. \n",
    "- o terceiro elevado ao cubo. "
   ]
  },
  {
   "cell_type": "code",
   "execution_count": 8,
   "metadata": {},
   "outputs": [
    {
     "name": "stdout",
     "output_type": "stream",
     "text": [
      "Digite o primeiro número inteiro: 25\n",
      "Digite o segundo número inteiro: 20\n",
      "Digite o primeiro número real: 12\n",
      "O produto do dobro do primeiro com metade do segundo é: 635.0\n",
      "A soma do triplo do primeiro com o terceiro é: 87.0\n",
      "O terceiro elevado ao cubo é: 1728.0\n"
     ]
    }
   ],
   "source": [
    "numInt1 = int(input(\"Digite o primeiro número inteiro: \"))\n",
    "numInt2 = int(input(\"Digite o segundo número inteiro: \"))\n",
    "numReal = float(input(\"Digite o primeiro número real: \"))\n",
    "calculo1 = (numInt1 * numInt1) + numInt2 / 2\n",
    "calculo2 = (3 * numInt1) + numReal\n",
    "calculo3 = (numReal ** 3)\n",
    "print(\"O produto do dobro do primeiro com metade do segundo é:\", calculo1)\n",
    "print(\"A soma do triplo do primeiro com o terceiro é:\", calculo2)\n",
    "print(\"O terceiro elevado ao cubo é:\", calculo3)"
   ]
  },
  {
   "cell_type": "markdown",
   "metadata": {},
   "source": [
    "7) João Papo-de-Pescador, homem de bem, comprou um microcomputador para controlar o rendimento diário de seu trabalho. Toda vez que ele traz um peso de peixes maior que o estabelecido pelo regulamento de pesca do estado de São Paulo (50 quilos) deve pagar uma multa de R$ 4,00 por quilo excedente. João precisa que você faça um programa que leia a variável peso (peso de peixes) e verifique se há excesso. Se houver, gravar na variável excesso e na variável multa o valor da multa que João deverá pagar. Caso contrário mostrar tais variáveis com o conteúdo ZERO. "
   ]
  },
  {
   "cell_type": "code",
   "execution_count": 9,
   "metadata": {},
   "outputs": [
    {
     "name": "stdout",
     "output_type": "stream",
     "text": [
      "Peso dos peixes: 58\n",
      "O seu peso está acima do limite do regulamento, e sua multa é de R$ 32.0\n"
     ]
    }
   ],
   "source": [
    "peso = float(input(\"Peso dos peixes: \"))\n",
    "regulamento = 50.0\n",
    "excesso = peso - regulamento\n",
    "multa = 4.00 * excesso\n",
    "if(peso > regulamento):\n",
    "    print(\"O seu peso está acima do limite do regulamento, e sua multa é de R$\", multa,)\n",
    "else:\n",
    "    print(\"Peso regulamentado dentro estabelecido\")"
   ]
  },
  {
   "cell_type": "markdown",
   "metadata": {
    "collapsed": true
   },
   "source": [
    "8) Faça um Programa que pergunte quanto você ganha por hora e o número de horas trabalhadas no mês. Calcule e mostre o total do seu salário no referido mês, sabendo-se que são descontados 11% para o Imposto de Renda, 8% para o INSS e 5%para o sindicato, faça um programa que nos dê:\n",
    "- salário bruto.\n",
    "- quanto pagou ao INSS.\n",
    "- quanto pagou ao sindicato.\n",
    "- o salário líquido.\n",
    "- calcule os descontos e o salário líquido, conforme a tabela abaixo:\n",
    "- Salário Bruto : \n",
    "- IR (11%) : \n",
    "- INSS (8%) : \n",
    "- Sindicato ( 5%) : \n",
    "- Salário Liquido : \n",
    "- Obs.: Salário Bruto - Descontos = Salário Líquido."
   ]
  },
  {
   "cell_type": "code",
   "execution_count": 11,
   "metadata": {},
   "outputs": [
    {
     "name": "stdout",
     "output_type": "stream",
     "text": [
      "Digite o quanto você ganha por hora: 25\n",
      "Digite o quanta horas você trabalha no mês: 222\n",
      "Salário Bruto R$ 5550.0 por mês\n",
      "Você pagou R$ 444.0 de INSS\n",
      "Você pagou R$ 277.5 ao Sindicato\n",
      "\n",
      "*Tabela*\n",
      "\n",
      "-Salário Bruto R$ 5550.0 rpor mês\n",
      "-IR R$ 610.5  por mês\n",
      "-INSS R$ 444.0 por mês\n",
      "-Sindicato R$ 277.5 por mês\n",
      "-Salário Líquido R$ 4218.0 por mês\n"
     ]
    }
   ],
   "source": [
    "ganhaHora = float(input(\"Digite o quanto você ganha por hora: \"))\n",
    "trabalhaMes = float(input(\"Digite o quanta horas você trabalha no mês: \"))\n",
    "bruto = ganhaHora * trabalhaMes\n",
    "inss = 8 / 100 * bruto\n",
    "sindicato = 5 / 100 * bruto\n",
    "ir = 11 / 100 * bruto\n",
    "\n",
    "print(\"Salário Bruto R$\", bruto, \"por mês\")\n",
    "print(\"Você pagou R$\", inss, \"de INSS\")\n",
    "print(\"Você pagou R$\", sindicato, \"ao Sindicato\")\n",
    "print(\"\\n*Tabela*\\n\")\n",
    "print(\"-Salário Bruto R$\", bruto, \"rpor mês\")\n",
    "print(\"-IR R$\", ir, \" por mês\")\n",
    "print(\"-INSS R$\", inss, \"por mês\")\n",
    "print(\"-Sindicato R$\", sindicato, \"por mês\")\n",
    "print(\"-Salário Líquido R$\", bruto - (inss + sindicato + ir), \"por mês\")"
   ]
  },
  {
   "cell_type": "markdown",
   "metadata": {},
   "source": [
    "9) Faça um programa que leia 2 strings e informe o conteúdo delas seguido do seu comprimento. Informe também se as duas strings possuem o mesmo comprimento e são iguais ou diferentes no conteúdo. Exemplo: String 1: Brasil Hexa 2018 String 2: Brasil! Hexa 2018! Tamanho de \"Brasil Hexa 2018\": 16 caracteres Tamanho de \"Brasil! Hexa 2018!\": 18 caracteres As duas strings são de tamanhos diferentes. As duas strings possuem conteúdo diferente."
   ]
  },
  {
   "cell_type": "code",
   "execution_count": 12,
   "metadata": {},
   "outputs": [
    {
     "name": "stdout",
     "output_type": "stream",
     "text": [
      "Digite a primeira palavra/frase: marcos\n",
      "Digite a segunda palavra/frase: rodrigo\n",
      "O comprimento das Strings é diferente 6 | 7\n",
      "As strings tem conteúdos opostos marcos | rodrigo\n"
     ]
    }
   ],
   "source": [
    "string1 = input(\"Digite a primeira palavra/frase: \")\n",
    "string2 = input(\"Digite a segunda palavra/frase: \")\n",
    "len(string1)\n",
    "len(string2)\n",
    "var1 = string1\n",
    "var2 = string2\n",
    "if(len(string1) == len(string2)):\n",
    "    print(\"O tamanho das Strings são idênticos: \",len(string1),\"&\", len(string2))    \n",
    "    if(var1 == var2):\n",
    "        print(\"Há o mesmo conteúdo nas Strings: \",var1,\"&\", var2)\n",
    "else:\n",
    "    print(\"O comprimento das Strings é diferente\",len(string1),\"|\", len(string2))\n",
    "    if(var1 != var2):\n",
    "        print(\"As strings tem conteúdos opostos\",var1,\"|\",var2)"
   ]
  },
  {
   "cell_type": "markdown",
   "metadata": {},
   "source": [
    "10) Faça um programa que permita ao usuário digitar o seu nome e em seguida mostre o nome do usuário de trás para frente utilizando somente letras maiúsculas. Dica: lembre−se que ao informar o nome o usuário pode digitar letras maiúsculas ou minúsculas. Observação: não use loops."
   ]
  },
  {
   "cell_type": "code",
   "execution_count": 13,
   "metadata": {},
   "outputs": [
    {
     "name": "stdout",
     "output_type": "stream",
     "text": [
      "Digite seu nome: marcos\n"
     ]
    },
    {
     "data": {
      "text/plain": [
       "'SOCRAM'"
      ]
     },
     "execution_count": 13,
     "metadata": {},
     "output_type": "execute_result"
    }
   ],
   "source": [
    "nome = input(\"Digite seu nome: \")\n",
    "n = nome.upper()\n",
    "n[::-1]"
   ]
  },
  {
   "cell_type": "markdown",
   "metadata": {},
   "source": [
    "11) Faça um programa que solicite a data de nascimento (dd/mm/aaaa) do usuário eimprima a data com o nome do mês por extenso. Data de Nascimento: 29/10/1973 Você nasceu em 29 de Outubro de 1973. Obs.: Não use desvio condicional nem loops."
   ]
  },
  {
   "cell_type": "code",
   "execution_count": 14,
   "metadata": {},
   "outputs": [
    {
     "name": "stdout",
     "output_type": "stream",
     "text": [
      "Dia do nascimento: 29\n",
      "Mês do nascimento: 06\n",
      "Ano do nascimento: 299\n",
      "\n",
      "Sua data de nascimento: 29/06/299 \n",
      "Você nasceu em: 29 de Junho de 299\n"
     ]
    }
   ],
   "source": [
    "listaMeses = {1: 'Janeiro', 2: 'Fevereiro', 3: 'Março', 4: 'Abril', 5: 'Maio', 6: 'Junho', 7: 'Julho', 8: 'Agosto', 9: 'Setembro', 10: 'Outubro', 11: 'Novembro', 12: 'Dezembro'}\n",
    "dia = input(\"Dia do nascimento: \")\n",
    "mes = input(\"Mês do nascimento: \")\n",
    "ano = input(\"Ano do nascimento: \")\n",
    "dataNascimento = dia, mes, ano\n",
    "dt = print (\"\\nSua data de nascimento: %s/%s/%s\" % (dia, mes, ano), \"\\nVocê nasceu em: %s\" %(dia), \"de %s\" %(listaMeses[int(mes)]), \"de %s\" %(ano))"
   ]
  },
  {
   "cell_type": "markdown",
   "metadata": {},
   "source": [
    "12) Leet é uma forma de se escrever o alfabeto latino usando outros símbolos emlugar das letras, como números por exemplo. A própria palavra leet admite muitas variações, como l33t ou 1337. O uso do leet reflete uma subcultura relacionada ao mundo dos jogos de computador e internet, sendo muito usada para confundir os iniciantes e afirmar-se como parte de um grupo. Pesquise sobre as principais formas de traduzir as letras. Depois, faça um programa que peça uma texto e transforme-o para a grafia leet speak."
   ]
  },
  {
   "cell_type": "code",
   "execution_count": 17,
   "metadata": {},
   "outputs": [
    {
     "name": "stdout",
     "output_type": "stream",
     "text": [
      "Leet Speak:  3x3rc|c|05 f3|705\n",
      "Mensagem traduzida: Exercicios feitos\n"
     ]
    }
   ],
   "source": [
    "msg = \"Exercicios feitos\"\n",
    "recebemsg = msg.lower()\n",
    "\n",
    "recebemsg = recebemsg.replace('a', str(4))\n",
    "recebemsg = recebemsg.replace('e', str(3))\n",
    "recebemsg = recebemsg.replace('o', str(0))\n",
    "recebemsg = recebemsg.replace('g', str(6))\n",
    "recebemsg = recebemsg.replace('i', '|')\n",
    "recebemsg = recebemsg.replace('j', str(9))\n",
    "recebemsg = recebemsg.replace('l', str(1))\n",
    "recebemsg = recebemsg.replace('s', str(5))\n",
    "recebemsg = recebemsg.replace('t', str(7))\n",
    "recebemsg = recebemsg.replace('u', '|_|')\n",
    "recebemsg = recebemsg.replace('z', str(2))\n",
    "\n",
    "print (\"Leet Speak: \", recebemsg)\n",
    "print (\"Mensagem traduzida:\", msg)"
   ]
  },
  {
   "cell_type": "markdown",
   "metadata": {},
   "source": [
    "13) Crie um programa que recebe uma lista de números e\n",
    "- retorne o maior elemento\n",
    "- retorne a soma dos elementos\n",
    "- retorne o número de ocorrências do primeiro elemento da lista\n",
    "- retorne a média dos elementos\n",
    "- retorne o valor mais próximo da média dos elementos\n",
    "- retorne a soma dos elementos com valor negativo\n",
    "- retorne a quantidade de vizinhos iguais"
   ]
  },
  {
   "cell_type": "code",
   "execution_count": 22,
   "metadata": {},
   "outputs": [
    {
     "name": "stdout",
     "output_type": "stream",
     "text": [
      "O Maior elemento: 22\n",
      "A soma dos elementos: 83\n",
      "O número de ocorrências do primeiro elemento: 1\n",
      "A média dos elementos: 11.857142857142858\n"
     ]
    }
   ],
   "source": [
    "lista = [3, 22, 14, 15, 0, 20, 9]\n",
    "media = sum(lista)/len(lista)\n",
    "print('O Maior elemento:',max(lista))\n",
    "print('A soma dos elementos:',sum(lista))\n",
    "print('O número de ocorrências do primeiro elemento:', lista.count(lista[0]))\n",
    "print('A média dos elementos:', media)"
   ]
  },
  {
   "cell_type": "markdown",
   "metadata": {},
   "source": [
    "14) Faça um programa que receba duas listas e retorne True se são iguais ou False caso contrario. Duas listas são iguais se possuem os mesmos valores e na mesma ordem."
   ]
  },
  {
   "cell_type": "code",
   "execution_count": 23,
   "metadata": {},
   "outputs": [
    {
     "data": {
      "text/plain": [
       "False"
      ]
     },
     "execution_count": 23,
     "metadata": {},
     "output_type": "execute_result"
    }
   ],
   "source": [
    "l1 = [1,2,3,4,5]\n",
    "l2 = [1,2,3,5,5]\n",
    "l1[:len(l1)] == l2[:len(l2)]"
   ]
  },
  {
   "cell_type": "markdown",
   "metadata": {},
   "source": [
    "15) Faça um programa que receba duas listas e retorne True se têm os mesmos elementos ou False caso contrário Duas listas possuem os mesmos elementos quando são compostas pelos mesmos valores, mas não obrigatoriamente na mesma ordem."
   ]
  },
  {
   "cell_type": "code",
   "execution_count": 24,
   "metadata": {},
   "outputs": [
    {
     "data": {
      "text/plain": [
       "True"
      ]
     },
     "execution_count": 24,
     "metadata": {},
     "output_type": "execute_result"
    }
   ],
   "source": [
    "l1 = [1,2,3,4]\n",
    "l2 = [4,3,2,1]\n",
    "set(l1) == set(l2)"
   ]
  },
  {
   "cell_type": "markdown",
   "metadata": {},
   "source": [
    "16) Faça um programa que percorre uma lista com o seguinte formato: [['Brasil', 'Italia', [10, 9]], ['Brasil', 'Espanha', [5, 7]], ['Italia', 'Espanha', [7,8]]]. Essa lista indica o número de faltas que cada time fez em cada jogo. Na lista acima, no jogo entre Brasil e Itália, o Brasil fez 10 faltas e a Itália fez 9.\n",
    "O programa deve imprimir na tela:\n",
    "- o total de faltas do campeonato\n",
    "- o time que fez mais faltas\n",
    "- o time que fez menos faltas"
   ]
  },
  {
   "cell_type": "code",
   "execution_count": 25,
   "metadata": {},
   "outputs": [
    {
     "name": "stdout",
     "output_type": "stream",
     "text": [
      "Total de faltas: 46\n",
      "País mais faltoso: ['Italia', 16]\n",
      "País menos faltoso: ['Brasil', 15]\n"
     ]
    }
   ],
   "source": [
    "faltas = [['Brasil', 'Italia' ,[10,9]],\n",
    "          ['Brasil', 'Espanha',[5,7]],\n",
    "          ['Italia', 'Espanha',[7,8]]]\n",
    "print('Total de faltas:', faltas[0][2][0]+faltas[0][2][1]+\n",
    "faltas[1][2][0]+faltas[1][2][1]+\n",
    "faltas[2][2][0]+faltas[2][2][1])\n",
    "pais = [['Brasil',faltas[0][2][0]+faltas[1][2][0]],\n",
    "        ['Italia',faltas[0][2][1]+faltas[2][2][0]],\n",
    "        ['Espanha', faltas[1][2][1]+faltas[2][2][1]]]\n",
    "print('País mais faltoso:', max(pais))\n",
    "print('País menos faltoso:', min(pais))"
   ]
  },
  {
   "cell_type": "markdown",
   "metadata": {},
   "source": [
    "17) Escreva um programa que conta a quantidade de vogais em uma string e armazena tal quantidade em um dicionário, onde a chave é a vogal considerada.\n"
   ]
  },
  {
   "cell_type": "code",
   "execution_count": 26,
   "metadata": {},
   "outputs": [
    {
     "name": "stdout",
     "output_type": "stream",
     "text": [
      "{'a': 3, 'e': 2, 'i': 2, 'o': 2, 'u': 0}\n"
     ]
    }
   ],
   "source": [
    "s = 'sistemas de informacao'\n",
    "vogais = ['a', 'e', 'i', 'o', 'u']\n",
    "totais = {vogais[0]: s.count(vogais[0]),\n",
    "          vogais[1]: s.count(vogais[1]),\n",
    "          vogais[2]: s.count(vogais[2]),\n",
    "          vogais[3]: s.count(vogais[3]),\n",
    "          vogais[4]: s.count(vogais[4])}\n",
    "print(totais)"
   ]
  },
  {
   "cell_type": "markdown",
   "metadata": {},
   "source": [
    "18) Escreva um programa que lê̂ duas notas de vários alunos e armazena tais notas em um dicionário, onde a chave é o nome do aluno. A entrada de dados deve terminar quando for lida uma string vazia com o nome. Escreva uma função que retorna a média do aluno, dado seu nome."
   ]
  },
  {
   "cell_type": "code",
   "execution_count": null,
   "metadata": {},
   "outputs": [],
   "source": [
    "notas = {\"Dennis\":[0,1.0], \"Marcos\":[10.0,9.75]}\n",
    "aluno = notas.get(input(\"Digite o nome do aluno: \"))\n",
    "nota = float((aluno[0] + aluno[1])/2)\n",
    "\n",
    "print(\"A média do aluno é %.2f\" % nota)"
   ]
  },
  {
   "cell_type": "markdown",
   "metadata": {},
   "source": [
    "19) Uma pista de Kart permite 10 voltas para cada um de 6 corredores. Escreva um programa que leia todos os tempos em segundos e os guarde em um dicionário, onde a chave é o nome do corredor. Ao final diga de quem foi a melhor volta da prova e em que volta; e ainda a classificação final em ordem (1o o campeão). O campeão é o que tem a menor média de tempos."
   ]
  },
  {
   "cell_type": "code",
   "execution_count": 33,
   "metadata": {},
   "outputs": [
    {
     "name": "stdout",
     "output_type": "stream",
     "text": [
      "Campeão: ['Marcos', '25']\n"
     ]
    }
   ],
   "source": [
    "nome = \"Marcos\"\n",
    "kart = [nome]\n",
    "tempo = \"25\"\n",
    "kart.append(tempo)\n",
    "print(\"Campeão:\", kart)"
   ]
  },
  {
   "cell_type": "markdown",
   "metadata": {},
   "source": [
    "20) Escreva um programa para armazenar uma agenda de telefones em um dicionário. Cada pessoa pode ter um ou mais telefones e a chave do dicionário é o nome da pessoa. Seu programa deve ter as seguintes funções:\n",
    "<br><br>\n",
    "- incluirNovoNome – essa função acrescenta um novo nome na agenda, com um ou mais telefones. Ela deve receber como argumentos o nome e os telefones.\n",
    "- incluirTelefone – essa função acrescenta um telefone em um nome existente na agenda. Caso o nome não exista na agenda, você̂deve perguntar se a pessoa deseja inclui-lo. Caso a resposta seja afirmativa, use a função anterior para incluir o novo nome. \n",
    "- excluirTelefone – essa função exclui um telefone de uma pessoa que já está na agenda. Se a pessoa tiver apenas um telefone, ela deve ser excluída da agenda.\n",
    "- excluirNome – essa função exclui uma pessoa da agenda.\n",
    "- consultarTelefone – essa função retorna os telefones de uma pessoa na agenda."
   ]
  },
  {
   "cell_type": "code",
   "execution_count": 41,
   "metadata": {},
   "outputs": [
    {
     "name": "stdout",
     "output_type": "stream",
     "text": [
      "{'Rodrigo': 912563869, 'Zé': 914673926}\n"
     ]
    }
   ],
   "source": [
    "l = {'Rodrigo': 912563869,'Zé': 914673926,'Matheus': 975451547}\n",
    "nome = \"Matheus\"\n",
    "l.pop(nome)\n",
    "print(l)"
   ]
  },
  {
   "cell_type": "markdown",
   "metadata": {},
   "source": [
    "21) Faça um programa que leia um arquivo texto contendo uma lista de endereços IP e gere um outro arquivo, contendo um relatório dos endereços IP válidos e inválidos. O arquivo de entrada possui o seguinte formato:\n",
    "- 200.135.80.9\n",
    "- 192.168.1.1\n",
    "- 8.35.67.74\n",
    "- 257.32.4.5\n",
    "- 85.345.1.2\n",
    "- 1.2.3.4\n",
    "- 9.8.234.5\n",
    "- 192.168.0.256\n",
    "<br><br>O arquivo de saída possui o seguinte formato:\n",
    "<br><br>[Endereços válidos:]\n",
    "- 200.135.80.9\n",
    "- 192.168.1.1\n",
    "- 8.35.67.74\n",
    "- 1.2.3.4\n",
    "<br><br>[Endereços inválidos:]\n",
    "- 257.32.4.5\n",
    "- 85.345.1.2\n",
    "- 9.8.234.5\n",
    "- 192.168.0.256"
   ]
  },
  {
   "cell_type": "code",
   "execution_count": null,
   "metadata": {},
   "outputs": [],
   "source": [
    "def validate_ips(ip_list):\n",
    "    validate_ips = dict()\n",
    "    for ip in ip_list:\n",
    "        if ip in [\"200.135.80.9\", \"192.168.1.1\", \"8.35.67.74\", \"1.2.3.4\"]:\n",
    "            validate_ips[ip] = True\n",
    "        else:\n",
    "            validate_ips[ip] = False\n",
    "    return validate_ips\n",
    "            \n",
    "def create_ip_valid_file(dict_ips, path_new):\n",
    "    with open(path_new, \"w\") as file:\n",
    "        ip_file_new = file\n",
    "        for ip,valid in dict_ips.items():\n",
    "            if (valid):\n",
    "                ip_file_new.write(f\"Valido: {ip} \\n\")\n",
    "            else:\n",
    "                ip_file_new.write(f\"Invalido: {ip} \\n\")\n",
    "\n",
    "        \n",
    "path = \"C:/Users/rhuto/Documents/ProgMulti/ips.txt\"\n",
    "path_new = \"C:/Users/rhuto/Documents/ProgMulti/ips.txt\"\n",
    "\n",
    "with open(path, \"r\") as file:\n",
    "    ip_list = file.read()\n",
    "\n",
    "ip_list = (ip_list.split(\"\\n\"))\n",
    "ip_dict = validate_ips(ip_list[:-1])\n",
    "\n",
    "create_ip_valid_file(ip_dict, path_new)"
   ]
  },
  {
   "cell_type": "markdown",
   "metadata": {},
   "source": [
    "22) A ACME Inc., uma empresa de 500 funcionários, está tendo problemas de espaço em disco no seu servidor de arquivos. Para tentar resolver este problema, o Administrador de Rede precisa saber qual o espaço ocupado pelos usuários, e identificar os usuários com maior espaço ocupado. Através de um programa, baixado da Internet, ele conseguiu gerar o seguinte arquivo, chamado \"usuarios.txt\":\n",
    "- alexandre 456123789\n",
    "- anderson 1245698456\n",
    "- antonio 123456456\n",
    "- carlos 91257581\n",
    "- cesar 987458\n",
    "- rosemary 789456125\n",
    "<br><br>Neste arquivo, o nome do usuário possui 15 caracteres. A partir deste arquivo, você deve criar um programa que gere um relatório, chamado \"relatório.txt\", no seguinte formato: ACME Inc. Uso do espaço em disco pelos usuários\n",
    "--------------------------------------------------------------\n",
    "----------\n",
    "- Nr. Usuário Espaço utilizado % do uso\n",
    "- 1 alexandre 434,99 MB 16,85%\n",
    "- 2 anderson 1187,99 MB 46,02%\n",
    "- 3 antonio 117,73 MB 4,56%\n",
    "- 4 carlos 87,03 MB 3,37%\n",
    "- 5 cesar 0,94 MB 0,04%\n",
    "- 6 rosemary 752,88 MB 29,16%\n",
    "- Espaço total ocupado: 2581,57 MB\n",
    "- Espaço médio ocupado: 430,26 MB\n",
    "<br><br>O arquivo de entrada deve ser lido uma única vez, e os dados armazenados em memória, caso sejam necessários, de forma a agilizar a execução do programa. A conversão da espaço ocupado em disco, de bytes para megabytes deverá ser feita através de uma função separada, que será chamada pelo programa principal. O cálculo do percentual de uso também deverá ser feito através de uma função, que será chamada pelo programa principal."
   ]
  },
  {
   "cell_type": "code",
   "execution_count": null,
   "metadata": {},
   "outputs": [],
   "source": [
    "def conv_KB_to_MB(input_kilobyte):\n",
    "        megabyte = float(0.000000976562)\n",
    "        convert_mb = megabyte * input_kilobyte\n",
    "        return float(round(convert_mb, 2))\n",
    "    \n",
    "def calcular_porcentagem_total(size_total, percent_total=100, size_saber=0):\n",
    "    percent_saber = (size_saber*percent_total)/size_total\n",
    "    return round(percent_saber,2)\n",
    "    \n",
    "def transform_to_dict(file):\n",
    "    dict_users = {'Nr':[], \"Usuario\":[], \"Space\":[], \"%Uso\":[], \"Total\": 0, \"Medio\": 0}\n",
    "    splitfile = file.split(\"\\n\")[:-1]\n",
    "    \n",
    "    for idx, user in enumerate(splitfile):\n",
    "        user = (user.split(\" \"))\n",
    "        dict_users[\"Nr\"].append(int(idx))\n",
    "        dict_users[\"Usuario\"].append(user[0])\n",
    "        dict_users[\"Space\"].append(conv_KB_to_MB(int(user[1])))\n",
    "    \n",
    "    total_space = round(sum(dict_users['Space']), 2)\n",
    "    for space in dict_users['Space']:\n",
    "        dict_users['%Uso'].append(calcular_porcentagem_total(total_space, 100, space))\n",
    "    \n",
    "    dict_users['Total'] = total_space\n",
    "    dict_users['Medio'] = round(total_space/len(dict_users['Nr']),2)\n",
    "    \n",
    "    return dict_users\n",
    "    \n",
    "def write_file(path_write, dict_formatado):\n",
    "    with open(path_write, \"w\") as file:\n",
    "        file.write(\"ACME Inc. Uso do espaço em disco pelos usuários\\n\")\n",
    "        file.write(\"-\"*40+\"\\n\")\n",
    "        file.write(\"NR Usuario Space %Use\\n\")\n",
    "        for nr, usuario, space, uso in zip(dict_formatado['Nr'], dict_formatado['Usuario'], dict_formatado['Space'], \n",
    "                                           dict_formatado['%Uso']):\n",
    "            file.write(f\"{nr} {usuario} {space} {uso}%\\n\")\n",
    "        file.write(f\"\\nEspaco Total Ocupado: {dict_formatado['Total']} MB\")\n",
    "        file.write(f\"\\nEspaco Medio Ocupado: {dict_formatado['Medio']} MB\")\n",
    "            \n",
    "                   \n",
    "path_users = \"C:/Users/rhuto/Documents/ProgMulti/usuarios.txt\"\n",
    "path_relatorio = \"C:/Users/rhuto/Documents/ProgMulti/relatorio.txt\"\n",
    "\n",
    "with open(path_users, \"r\") as file:\n",
    "    users_lists = file.read()\n",
    "\n",
    "dict_formatado = transform_to_dict(users_lists)\n",
    "write_file(path_relatorio, dict_formatado)"
   ]
  },
  {
   "cell_type": "code",
   "execution_count": null,
   "metadata": {},
   "outputs": [],
   "source": []
  }
 ],
 "metadata": {
  "kernelspec": {
   "display_name": "Python 3",
   "language": "python",
   "name": "python3"
  },
  "language_info": {
   "codemirror_mode": {
    "name": "ipython",
    "version": 3
   },
   "file_extension": ".py",
   "mimetype": "text/x-python",
   "name": "python",
   "nbconvert_exporter": "python",
   "pygments_lexer": "ipython3",
   "version": "3.6.7"
  }
 },
 "nbformat": 4,
 "nbformat_minor": 2
}
